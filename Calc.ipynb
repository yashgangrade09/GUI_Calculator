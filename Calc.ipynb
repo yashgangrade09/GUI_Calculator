{
 "cells": [
  {
   "cell_type": "code",
   "execution_count": 2,
   "metadata": {},
   "outputs": [],
   "source": [
    "from tkinter import *\n",
    "import math"
   ]
  },
  {
   "cell_type": "code",
   "execution_count": 8,
   "metadata": {},
   "outputs": [
    {
     "ename": "SyntaxError",
     "evalue": "invalid syntax (<ipython-input-8-8da78b8e40d1>, line 64)",
     "output_type": "error",
     "traceback": [
      "\u001b[0;36m  File \u001b[0;32m\"<ipython-input-8-8da78b8e40d1>\"\u001b[0;36m, line \u001b[0;32m64\u001b[0m\n\u001b[0;31m    def\u001b[0m\n\u001b[0m        ^\u001b[0m\n\u001b[0;31mSyntaxError\u001b[0m\u001b[0;31m:\u001b[0m invalid syntax\n"
     ]
    }
   ],
   "source": [
    "class calculator:\n",
    "    \n",
    "    def __init__(self, application):\n",
    "        application.title(\"Basic Calculator\")\n",
    "        application.geometry()\n",
    "        self.exp = Entry(application)\n",
    "        self.exp.grid(row=0,column=0,columnspan=6,pady=3) \n",
    "        self.exp.focus_set() #Sets focus on the input text area \n",
    "        \n",
    "        equalsButton = Button(master,text=\"=\",width=11,height=3,fg=\"blue\", bg=\"orange\",command=lambda:self.equals())\n",
    "        equalsButton.grid(row=4, column=4,columnspan=2)\n",
    "        \n",
    "        acButton = Button(master,text='AC',width=5,height=3, fg=\"red\", bg=\"light green\",command=lambda:self.clearall())\n",
    "        acButton.grid(row=1, column=4)\n",
    "        \n",
    "        cButton = Button(master,text='C',width=5,height=3, fg=\"red\",bg=\"light green\", command=lambda:self.clear1())\n",
    "        cButton.grid(row=1, column=5) \n",
    "        \n",
    "        plusButton = Button(master,text=\"+\",width=5,height=3, fg=\"blue\",bg=\"orange\",command=lambda:self.action('+')).grid(row=4, column=3) \n",
    "        \n",
    "        multiplyButton = Button(master,text=\"x\",width=5,height=3, fg=\"blue\",bg=\"orange\",command=lambda:self.action('x')).grid(row=2, column=3) \n",
    "  \n",
    "        subtractButton = Button(master,text=\"-\",width=5,height=3, fg=\"red\",bg=\"light green\",command=lambda:self.action('-')).grid(row=3, column=3) \n",
    "\n",
    "        divideButton = Button(master,text=\"÷\",width=5,height=3, fg=\"blue\",bg=\"orange\", command=lambda:self.action('/')).grid(row=1, column=3) \n",
    "\n",
    "        moduloButton = Button(master,text=\"%\",width=5,height=3, fg=\"red\",bg=\"light green\", command=lambda:self.action('%')).grid(row=4, column=2) \n",
    "\n",
    "        sevenButton = Button(master,text=\"7\",width=5,height=3, fg=\"blue\",bg=\"orange\", command=lambda:self.action('7')).grid(row=1, column=0) \n",
    "        \n",
    "        eightButton = Button(master,text=\"8\",width=5,height=3, fg=\"red\",bg=\"light green\", command=lambda:self.action(8)).grid(row=1, column=1) \n",
    "  \n",
    "        nineButton = Button(master,text=\"9\",width=5,height=3, fg=\"blue\",bg=\"orange\", command=lambda:self.action(9)).grid(row=1, column=2) \n",
    "\n",
    "        fourButton = Button(master,text=\"4\",width=5,height=3, fg=\"red\",bg=\"light green\", command=lambda:self.action(4)).grid(row=2, column=0) \n",
    "\n",
    "        fiveButton = Button(master,text=\"5\",width=5,height=3, fg=\"blue\",bg=\"orange\", command=lambda:self.action(5)).grid(row=2, column=1) \n",
    "\n",
    "        sixButton = Button(master,text=\"6\",width=5,height=3, fg=\"white\",bg=\"blue\", command=lambda:self.action(6)).grid(row=2, column=2) \n",
    "\n",
    "        oneButton = Button(master,text=\"1\",width=5,height=3, fg=\"red\",bg=\"light green\", command=lambda:self.action(1)).grid(row=3, column=0) \n",
    "\n",
    "        twoButton = Button(master,text=\"2\",width=5,height=3, fg=\"blue\",bg=\"orange\", command=lambda:self.action(2)).grid(row=3, column=1) \n",
    "\n",
    "        threeButton = Button(master,text=\"3\",width=5,height=3, fg=\"white\",bg=\"blue\", command=lambda:self.action(3)).grid(row=3, column=2) \n",
    "        \n",
    "        zeroButton = Button(master,text=\"0\",width=5,height=3, fg=\"white\",bg=\"blue\", command=lambda:self.action(0)).grid(row=4, column=0) \n",
    "  \n",
    "        decimalButton = Button(master,text=\".\",width=5,height=3, fg=\"red\",bg=\"light green\", command=lambda:self.action('.')).grid(row=4, column=1) \n",
    "\n",
    "        openParaButton = Button(master,text=\"(\",width=5,height=3, fg=\"white\",bg=\"blue\", command=lambda:self.action('(')).grid(row=2, column=4) \n",
    "\n",
    "        closeParaButton = Button(master,text=\")\",width=5,height=3, fg=\"blue\",bg=\"orange\", command=lambda:self.action(')')).grid(row=2, column=5) \n",
    "\n",
    "        squareRootButton = Button(master,text=\"?\",width=5,height=3, fg=\"red\",bg=\"light green\", command=lambda:self.squareroot()).grid(row=3, column=4) \n",
    "\n",
    "        squareButton = Button(master,text=\"x²\",width=5,height=3, fg=\"white\",bg=\"blue\", command=lambda:self.square()).grid(row=3, column=5) \n",
    "    \n",
    "    def evaluateExpression(self):\n",
    "        self.expression = self.exp.get()\n",
    "        self.updated = self.expression.replace(\"x\", \"*\")\n",
    "        self.updated = self.expression.replace(\"/\", \"/\")\n",
    "        \n",
    "    def equals(self):\n",
    "        self.evaluateExpression()"
   ]
  },
  {
   "cell_type": "code",
   "execution_count": 7,
   "metadata": {},
   "outputs": [],
   "source": []
  },
  {
   "cell_type": "code",
   "execution_count": null,
   "metadata": {},
   "outputs": [],
   "source": [
    "application = Tk()\n"
   ]
  }
 ],
 "metadata": {
  "kernelspec": {
   "display_name": "Python 3",
   "language": "python",
   "name": "python3"
  },
  "language_info": {
   "codemirror_mode": {
    "name": "ipython",
    "version": 3
   },
   "file_extension": ".py",
   "mimetype": "text/x-python",
   "name": "python",
   "nbconvert_exporter": "python",
   "pygments_lexer": "ipython3",
   "version": "3.6.8"
  }
 },
 "nbformat": 4,
 "nbformat_minor": 2
}
